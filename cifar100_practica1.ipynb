{
 "cells": [
  {
   "cell_type": "code",
   "execution_count": 3,
   "metadata": {
    "id": "tvd5dqIotcXT"
   },
   "outputs": [],
   "source": [
    "# Importamos las librerias\n",
    "from tensorflow.keras.datasets import cifar100\n",
    "\n",
    "import matplotlib.pyplot as plt\n",
    "import numpy as np\n",
    "import pandas as pd\n",
    "from tensorflow.keras.datasets import mnist\n",
    "from tensorflow.keras import layers, Input, regularizers\n",
    "from tensorflow.keras.models import Model\n",
    "from tensorflow.keras.preprocessing.image import ImageDataGenerator\n",
    "from tensorflow.keras.optimizers import SGD\n",
    "from tensorflow.keras.metrics import AUC\n",
    "from tensorflow.keras.losses import SparseCategoricalCrossentropy, MSE, MAE\n",
    "from mpl_toolkits.mplot3d import Axes3D\n",
    "import tensorflow as tf\n",
    "\n",
    "from aux_func import show_history\n",
    "from sklearn.linear_model import SGDClassifier\n",
    "from sklearn.ensemble import RandomForestClassifier"
   ]
  },
  {
   "cell_type": "code",
   "execution_count": 4,
   "metadata": {
    "colab": {
     "base_uri": "https://localhost:8080/"
    },
    "id": "vOthfnmjszWr",
    "outputId": "2790a5e6-902d-4af9-bb9a-5822113cf906"
   },
   "outputs": [
    {
     "name": "stdout",
     "output_type": "stream",
     "text": [
      "Downloading data from https://www.cs.toronto.edu/~kriz/cifar-100-python.tar.gz\n",
      "169009152/169001437 [==============================] - 4s 0us/step\n",
      "169017344/169001437 [==============================] - 4s 0us/step\n"
     ]
    }
   ],
   "source": [
    "# Distribuimos los datos para el modelo\n",
    "(X_train, y_train), (X_validation, y_validation) = cifar100.load_data()\n",
    "\n",
    "# Normalizamos\n",
    "X_train = X_train/255\n",
    "X_validation = X_validation/255"
   ]
  },
  {
   "cell_type": "code",
   "execution_count": 23,
   "metadata": {
    "colab": {
     "base_uri": "https://localhost:8080/"
    },
    "id": "mhazNLlUs4SE",
    "outputId": "894d1d7d-5b51-499a-eee9-72e40e05ecf7"
   },
   "outputs": [
    {
     "name": "stdout",
     "output_type": "stream",
     "text": [
      "Número de elementos en el dataset =  60000\n"
     ]
    }
   ],
   "source": [
    "print('Número de elementos en el dataset = ', X_train.shape[0]+X_validation.shape[0])"
   ]
  },
  {
   "cell_type": "code",
   "execution_count": 24,
   "metadata": {
    "colab": {
     "base_uri": "https://localhost:8080/",
     "height": 283
    },
    "id": "zkag6RKts5OH",
    "outputId": "b0371b8d-6145-4721-c534-c5f7fea75451"
   },
   "outputs": [
    {
     "data": {
      "text/plain": [
       "<matplotlib.image.AxesImage at 0x7f9179cc5690>"
      ]
     },
     "execution_count": 24,
     "metadata": {},
     "output_type": "execute_result"
    },
    {
     "data": {
      "image/png": "[encoded data removed]",
      "text/plain": [
       "<Figure size 432x288 with 1 Axes>"
      ]
     },
     "metadata": {
      "needs_background": "light"
     },
     "output_type": "display_data"
    }
   ],
   "source": [
    "plt.imshow(X_train[8888])"
   ]
  },
  {
   "cell_type": "markdown",
   "metadata": {
    "id": "iKuGFI2keZYP"
   },
   "source": [
    "## Red Neuronal\n"
   ]
  },
  {
   "cell_type": "code",
   "execution_count": 25,
   "metadata": {
    "colab": {
     "base_uri": "https://localhost:8080/"
    },
    "id": "fF0Dp4M-s58e",
    "outputId": "e04e6d0a-f180-4646-a336-baf89dde50c1"
   },
   "outputs": [
    {
     "name": "stdout",
     "output_type": "stream",
     "text": [
      "Model: \"model\"\n",
      "_________________________________________________________________\n",
      " Layer (type)                Output Shape              Param #   \n",
      "=================================================================\n",
      " input_1 (InputLayer)        [(None, 32, 32, 3)]       0         \n",
      "                                                                 \n",
      " flatten (Flatten)           (None, 3072)              0         \n",
      "                                                                 \n",
      " dense (Dense)               (None, 1000)              3073000   \n",
      "                                                                 \n",
      " dense_1 (Dense)             (None, 1000)              1001000   \n",
      "                                                                 \n",
      " dense_2 (Dense)             (None, 1000)              1001000   \n",
      "                                                                 \n",
      " dense_3 (Dense)             (None, 1000)              1001000   \n",
      "                                                                 \n",
      " dense_4 (Dense)             (None, 1000)              1001000   \n",
      "                                                                 \n",
      " dense_5 (Dense)             (None, 1000)              1001000   \n",
      "                                                                 \n",
      " dense_6 (Dense)             (None, 1000)              1001000   \n",
      "                                                                 \n",
      " dense_7 (Dense)             (None, 100)               100100    \n",
      "                                                                 \n",
      "=================================================================\n",
      "Total params: 9,179,100\n",
      "Trainable params: 9,179,100\n",
      "Non-trainable params: 0\n",
      "_________________________________________________________________\n",
      "None\n"
     ]
    }
   ],
   "source": [
    "# capas de la red\n",
    "input = Input(shape=(32,32,3))\n",
    "input_flat = layers.Flatten()(input)\n",
    "layer = layers.Dense(units=1000, activation='elu')(input_flat)\n",
    "layer = layers.Dense(units=1000, activation='elu')(layer)\n",
    "layer = layers.Dense(units=1000, activation='elu')(layer)\n",
    "layer = layers.Dense(units=1000, activation='elu')(layer)\n",
    "layer = layers.Dense(units=1000, activation='elu')(layer)\n",
    "layer = layers.Dense(units=1000, activation='elu')(layer)\n",
    "layer = layers.Dense(units=1000, activation='elu')(layer)\n",
    "output = layers.Dense(units=100, activation='softmax')(layer)\n",
    "\n",
    "# creamos el modelo\n",
    "model = Model(inputs=input, outputs=output)\n",
    "print(model.summary())\n",
    "\n",
    "# optimizador\n",
    "optimizer = SGD(learning_rate=0.001)\n",
    "\n",
    "# función loss\n",
    "loss = SparseCategoricalCrossentropy(from_logits=False)\n",
    "\n",
    "# métrica\n",
    "metrics = ['accuracy']\n",
    "\n",
    "# compilamos el modelo\n",
    "model.compile(optimizer=optimizer, loss=loss, metrics=metrics)"
   ]
  },
  {
   "cell_type": "code",
   "execution_count": null,
   "metadata": {
    "id": "gOw89vIWtsS8"
   },
   "outputs": [],
   "source": [
    "history = model.fit(x=X_train, y=y_train, batch_size=100, epochs=100,\n",
    "                           validation_data=(X_validation, y_validation))"
   ]
  },
  {
   "cell_type": "markdown",
   "metadata": {
    "id": "ZrS0cYnCencV"
   },
   "source": [
    "Resultados Red Neuronal:"
   ]
  },
  {
   "cell_type": "code",
   "execution_count": 28,
   "metadata": {
    "colab": {
     "base_uri": "https://localhost:8080/",
     "height": 572
    },
    "id": "2q0x00-Utxkp",
    "outputId": "c1863ac4-095a-490d-c052-5339339bbf95"
   },
   "outputs": [
    {
     "data": {
      "image/png": "[encoded data removed]",
      "text/plain": [
       "<Figure size 432x288 with 1 Axes>"
      ]
     },
     "metadata": {
      "needs_background": "light"
     },
     "output_type": "display_data"
    },
    {
     "data": {
      "image/png": "[encoded data removed]",
      "text/plain": [
       "<Figure size 432x288 with 1 Axes>"
      ]
     },
     "metadata": {
      "needs_background": "light"
     },
     "output_type": "display_data"
    }
   ],
   "source": [
    "show_history(history)"
   ]
  },
  {
   "cell_type": "markdown",
   "metadata": {
    "id": "HE-fG1nAeSvx"
   },
   "source": [
    "## Random Forest\n",
    "\n",
    "Iteramos y visualizamos los resultados de los random forest. Por tiempo de computación se comprueban solo desde el valor 1 hasta el 10. Pero se podría cambiar el valor al deseado para seguir computando y haciendo pruebas."
   ]
  },
  {
   "cell_type": "code",
   "execution_count": null,
   "metadata": {
    "id": "ca1qVfGFd5Yb"
   },
   "outputs": [],
   "source": [
    "iteration = []\n",
    "accuracy = []\n",
    "\n",
    "for i in np.arange(1,20,1):\n",
    "    clf = RandomForestClassifier(n_estimators=i)\n",
    "    clf.fit(X_train.reshape((X_train.shape[0],-1)), y_train.reshape((-1,1)))\n",
    "    iteration.append(i)\n",
    "    accuracy.append(clf.score(X_validation.reshape((X_validation.shape[0],-1)), y_validation.reshape((-1,1))))"
   ]
  },
  {
   "cell_type": "code",
   "execution_count": 30,
   "metadata": {
    "colab": {
     "base_uri": "https://localhost:8080/",
     "height": 282
    },
    "id": "P2K-jCFzK-x8",
    "outputId": "f37a2710-923b-4a46-9dec-6e4952aac9b3"
   },
   "outputs": [
    {
     "data": {
      "text/plain": [
       "<matplotlib.axes._subplots.AxesSubplot at 0x7f917026c050>"
      ]
     },
     "execution_count": 30,
     "metadata": {},
     "output_type": "execute_result"
    },
    {
     "data": {
      "image/png": "[encoded data removed]",
      "text/plain": [
       "<Figure size 432x288 with 1 Axes>"
      ]
     },
     "metadata": {
      "needs_background": "light"
     },
     "output_type": "display_data"
    }
   ],
   "source": [
    "results = pd.DataFrame(accuracy, iteration)\n",
    "plt.title('Resultados RF por Número de Árboles')\n",
    "plt.xlabel('Arboles')\n",
    "plt.ylabel('Score')\n",
    "results.plot()"
   ]
  },
  {
   "cell_type": "markdown",
   "metadata": {
    "id": "ob9c0v07ertH"
   },
   "source": [
    "Observamos que el resultado del score es menor que la red neuronal.\\\n",
    "Cambiamos el número de árboles para comprobar si podemos mejorar el resultado:"
   ]
  },
  {
   "cell_type": "markdown",
   "metadata": {
    "id": "_kNMKP2le9yR"
   },
   "source": [
    "## SGD Classifier"
   ]
  },
  {
   "cell_type": "code",
   "execution_count": 13,
   "metadata": {
    "colab": {
     "base_uri": "https://localhost:8080/"
    },
    "id": "_uOQBltxjxqo",
    "outputId": "4b4e54f1-869d-46b6-dfcd-ca1cbe6e23e1"
   },
   "outputs": [
    {
     "name": "stderr",
     "output_type": "stream",
     "text": [
      "/usr/local/lib/python3.7/dist-packages/sklearn/utils/validation.py:985: DataConversionWarning: A column-vector y was passed when a 1d array was expected. Please change the shape of y to (n_samples, ), for example using ravel().\n",
      "  y = column_or_1d(y, warn=True)\n",
      "/usr/local/lib/python3.7/dist-packages/sklearn/linear_model/_stochastic_gradient.py:700: ConvergenceWarning: Maximum number of iteration reached before convergence. Consider increasing max_iter to improve the fit.\n",
      "  ConvergenceWarning,\n"
     ]
    },
    {
     "data": {
      "text/plain": [
       "SGDClassifier(max_iter=100, n_jobs=10)"
      ]
     },
     "execution_count": 13,
     "metadata": {},
     "output_type": "execute_result"
    }
   ],
   "source": [
    "sgd = SGDClassifier(loss='hinge', penalty='l2', max_iter=100, verbose=0, n_jobs=10)\n",
    "sgd.fit(X_train.reshape((X_train.shape[0],-1)), y_train.reshape((-1,1)))"
   ]
  },
  {
   "cell_type": "code",
   "execution_count": 14,
   "metadata": {
    "colab": {
     "base_uri": "https://localhost:8080/"
    },
    "id": "8IT1v5u_q-eB",
    "outputId": "21c376e0-50c9-4778-fc47-37f282fe4f7e"
   },
   "outputs": [
    {
     "name": "stdout",
     "output_type": "stream",
     "text": [
      "0.0993\n"
     ]
    }
   ],
   "source": [
    "print(sgd.score(X_validation.reshape((X_validation.shape[0],-1)), y_validation.reshape((-1,1))))"
   ]
  },
  {
   "cell_type": "markdown",
   "metadata": {
    "id": "P_J9hGN33Zzh"
   },
   "source": [
    "## Logistic Regression\n"
   ]
  },
  {
   "cell_type": "code",
   "execution_count": 25,
   "metadata": {
    "id": "KE27sPvq3b5b"
   },
   "outputs": [],
   "source": [
    "from sklearn.linear_model import LogisticRegression"
   ]
  },
  {
   "cell_type": "code",
   "execution_count": 26,
   "metadata": {
    "colab": {
     "base_uri": "https://localhost:8080/"
    },
    "id": "ml8x2rGN3gUC",
    "outputId": "e34ed91f-973b-4b2f-838b-ffb18961f439"
   },
   "outputs": [
    {
     "name": "stderr",
     "output_type": "stream",
     "text": [
      "/usr/local/lib/python3.7/dist-packages/sklearn/utils/validation.py:985: DataConversionWarning: A column-vector y was passed when a 1d array was expected. Please change the shape of y to (n_samples, ), for example using ravel().\n",
      "  y = column_or_1d(y, warn=True)\n",
      "/usr/local/lib/python3.7/dist-packages/sklearn/linear_model/_logistic.py:818: ConvergenceWarning: lbfgs failed to converge (status=1):\n",
      "STOP: TOTAL NO. of ITERATIONS REACHED LIMIT.\n",
      "\n",
      "Increase the number of iterations (max_iter) or scale the data as shown in:\n",
      "    https://scikit-learn.org/stable/modules/preprocessing.html\n",
      "Please also refer to the documentation for alternative solver options:\n",
      "    https://scikit-learn.org/stable/modules/linear_model.html#logistic-regression\n",
      "  extra_warning_msg=_LOGISTIC_SOLVER_CONVERGENCE_MSG,\n"
     ]
    }
   ],
   "source": [
    "clf = LogisticRegression(random_state=0).fit(X_train.reshape((X_train.shape[0],-1)), y_train.reshape((-1,1)))"
   ]
  },
  {
   "cell_type": "code",
   "execution_count": 27,
   "metadata": {
    "colab": {
     "base_uri": "https://localhost:8080/"
    },
    "id": "wA-EGkNy3tYk",
    "outputId": "b714a60d-ab2a-42dd-aa49-4d1361e146f3"
   },
   "outputs": [
    {
     "name": "stdout",
     "output_type": "stream",
     "text": [
      "0.1804\n"
     ]
    }
   ],
   "source": [
    "print(clf.score(X_validation.reshape((X_validation.shape[0],-1)), y_validation.reshape((-1,1))))"
   ]
  }
 ],
 "metadata": {
  "accelerator": "GPU",
  "colab": {
   "collapsed_sections": [],
   "name": "cifar100.ipynb",
   "provenance": []
  },
  "kernelspec": {
   "display_name": "Python 3 (ipykernel)",
   "language": "python",
   "name": "python3"
  },
  "language_info": {
   "codemirror_mode": {
    "name": "ipython",
    "version": 3
   },
   "file_extension": ".py",
   "mimetype": "text/x-python",
   "name": "python",
   "nbconvert_exporter": "python",
   "pygments_lexer": "ipython3",
   "version": "3.9.7"
  }
 },
 "nbformat": 4,
 "nbformat_minor": 1
}
